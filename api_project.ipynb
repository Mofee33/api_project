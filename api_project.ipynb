{
 "cells": [
  {
   "cell_type": "markdown",
   "metadata": {},
   "source": [
    "This exercise will require you to pull some data from the Qunadl API. Qaundl is currently the most widely used aggregator of financial market data."
   ]
  },
  {
   "cell_type": "markdown",
   "metadata": {},
   "source": [
    "As a first step, you will need to register a free account on the http://www.quandl.com website."
   ]
  },
  {
   "cell_type": "markdown",
   "metadata": {},
   "source": [
    "After you register, you will be provided with a unique API key, that you should store:"
   ]
  },
  {
   "cell_type": "code",
   "execution_count": 3,
   "metadata": {},
   "outputs": [],
   "source": [
    "# Store the API key as a string - according to PEP8, constants are always named in all upper case\n",
    "API_KEY = 'XR5oSm6s-QF8frCbMrpD'"
   ]
  },
  {
   "cell_type": "markdown",
   "metadata": {},
   "source": [
    "Qaundl has a large number of data sources, but, unfortunately, most of them require a Premium subscription. Still, there are also a good number of free datasets."
   ]
  },
  {
   "cell_type": "markdown",
   "metadata": {},
   "source": [
    "For this mini project, we will focus on equities data from the Frankfurt Stock Exhange (FSE), which is available for free. We'll try and analyze the stock prices of a company called Carl Zeiss Meditec, which manufactures tools for eye examinations, as well as medical lasers for laser eye surgery: https://www.zeiss.com/meditec/int/home.html. The company is listed under the stock ticker AFX_X."
   ]
  },
  {
   "cell_type": "markdown",
   "metadata": {},
   "source": [
    "You can find the detailed Quandl API instructions here: https://docs.quandl.com/docs/time-series"
   ]
  },
  {
   "cell_type": "markdown",
   "metadata": {},
   "source": [
    "While there is a dedicated Python package for connecting to the Quandl API, we would prefer that you use the *requests* package, which can be easily downloaded using *pip* or *conda*. You can find the documentation for the package here: http://docs.python-requests.org/en/master/ "
   ]
  },
  {
   "cell_type": "markdown",
   "metadata": {},
   "source": [
    "Finally, apart from the *requests* package, you are encouraged to not use any third party Python packages, such as *pandas*, and instead focus on what's available in the Python Standard Library (the *collections* module might come in handy: https://pymotw.com/3/collections/).\n",
    "Also, since you won't have access to DataFrames, you are encouraged to us Python's native data structures - preferably dictionaries, though some questions can also be answered using lists.\n",
    "You can read more on these data structures here: https://docs.python.org/3/tutorial/datastructures.html"
   ]
  },
  {
   "cell_type": "markdown",
   "metadata": {},
   "source": [
    "Keep in mind that the JSON responses you will be getting from the API map almost one-to-one to Python's dictionaries. Unfortunately, they can be very nested, so make sure you read up on indexing dictionaries in the documentation provided above."
   ]
  },
  {
   "cell_type": "code",
   "execution_count": 4,
   "metadata": {},
   "outputs": [],
   "source": [
    "# First, import the relevant modules\n",
    "import requests\n",
    "import json\n"
   ]
  },
  {
   "cell_type": "code",
   "execution_count": 59,
   "metadata": {},
   "outputs": [
    {
     "name": "stdout",
     "output_type": "stream",
     "text": [
      "{u'dataset': {u'dataset_code': u'FB', u'column_names': [u'Date', u'Open', u'High', u'Low', u'Close', u'Volume', u'Ex-Dividend', u'Split Ratio', u'Adj. Open', u'Adj. High', u'Adj. Low', u'Adj. Close', u'Adj. Volume'], u'newest_available_date': u'2018-03-27', u'description': u\"End of day open, high, low, close and volume, dividends and splits, and split/dividend adjusted open, high, low close and volume for Facebook, Inc. (FB). Ex-Dividend is non-zero on ex-dividend dates. Split Ratio is 1 on non-split dates. Adjusted prices are calculated per CRSP (www.crsp.com/products/documentation/crsp-calculations)\\n\\nThis data is in the public domain. You may copy, distribute, disseminate or include the data in other products for commercial and/or noncommercial purposes.\\n\\nThis data is part of Quandl's Wiki initiative to get financial data permanently into the public domain. Quandl relies on users like you to flag errors and provide data where data is wrong or missing. Get involved: connect@quandl.com\\n\", u'end_date': u'2014-12-31', u'data': [], u'start_date': u'2014-12-31', u'limit': None, u'transform': u'rdiff', u'order': None, u'refreshed_at': u'2018-03-27T21:46:11.036Z', u'frequency': u'daily', u'database_code': u'WIKI', u'oldest_available_date': u'2012-05-18', u'collapse': u'monthly', u'premium': False, u'database_id': 4922, u'column_index': None, u'type': u'Time Series', u'id': 9775687, u'name': u'Facebook Inc. (FB) Prices, Dividends, Splits and Trading Volume'}}\n"
     ]
    }
   ],
   "source": [
    "# Now, call the Quandl API and pull out a small sample of the data (only one day) to get a glimpse\n",
    "# into the JSON structure that will be returned\n",
    "url_base = \"https://www.quandl.com/api/v3/datasets/WIKI/FB.json?start_date=2014-12-31&end_date=2014-12-31&collapse=monthly&transform=rdiff&api_key=\"\n",
    "url = url_base + API_KEY\n",
    "r = requests.get(url)\n",
    "text = r.text\n",
    "data = json.loads(text)\n",
    "print(data)"
   ]
  },
  {
   "cell_type": "code",
   "execution_count": 6,
   "metadata": {},
   "outputs": [
    {
     "name": "stdout",
     "output_type": "stream",
     "text": [
      "{u'dataset': {u'collapse': u'monthly',\n",
      "              u'column_index': None,\n",
      "              u'column_names': [u'Date',\n",
      "                                u'Open',\n",
      "                                u'High',\n",
      "                                u'Low',\n",
      "                                u'Close',\n",
      "                                u'Volume',\n",
      "                                u'Ex-Dividend',\n",
      "                                u'Split Ratio',\n",
      "                                u'Adj. Open',\n",
      "                                u'Adj. High',\n",
      "                                u'Adj. Low',\n",
      "                                u'Adj. Close',\n",
      "                                u'Adj. Volume'],\n",
      "              u'data': [],\n",
      "              u'database_code': u'WIKI',\n",
      "              u'database_id': 4922,\n",
      "              u'dataset_code': u'FB',\n",
      "              u'description': u\"End of day open, high, low, close and volume, dividends and splits, and split/dividend adjusted open, high, low close and volume for Facebook, Inc. (FB). Ex-Dividend is non-zero on ex-dividend dates. Split Ratio is 1 on non-split dates. Adjusted prices are calculated per CRSP (www.crsp.com/products/documentation/crsp-calculations)\\n\\nThis data is in the public domain. You may copy, distribute, disseminate or include the data in other products for commercial and/or noncommercial purposes.\\n\\nThis data is part of Quandl's Wiki initiative to get financial data permanently into the public domain. Quandl relies on users like you to flag errors and provide data where data is wrong or missing. Get involved: connect@quandl.com\\n\",\n",
      "              u'end_date': u'2014-12-31',\n",
      "              u'frequency': u'daily',\n",
      "              u'id': 9775687,\n",
      "              u'limit': None,\n",
      "              u'name': u'Facebook Inc. (FB) Prices, Dividends, Splits and Trading Volume',\n",
      "              u'newest_available_date': u'2018-03-27',\n",
      "              u'oldest_available_date': u'2012-05-18',\n",
      "              u'order': None,\n",
      "              u'premium': False,\n",
      "              u'refreshed_at': u'2018-03-27T21:46:11.036Z',\n",
      "              u'start_date': u'2014-12-31',\n",
      "              u'transform': u'rdiff',\n",
      "              u'type': u'Time Series'}}\n"
     ]
    }
   ],
   "source": [
    "# Inspect the JSON structure of the object you created, and take note of how nested it is,\n",
    "# as well as the overall structure\n",
    "import pprint\n",
    "pprint.pprint(data)"
   ]
  },
  {
   "cell_type": "markdown",
   "metadata": {},
   "source": [
    "These are your tasks for this mini project:\n",
    "\n",
    "1. Collect data from the Franfurt Stock Exchange, for the ticker AFX_X, for the whole year 2017 (keep in mind that the date format is YYYY-MM-DD).\n",
    "2. Convert the returned JSON object into a Python dictionary.\n",
    "3. Calculate what the highest and lowest opening prices were for the stock in this period.\n",
    "4. What was the largest change in any one day (based on High and Low price)?\n",
    "5. What was the largest change between any two days (based on Closing Price)?\n",
    "6. What was the average daily trading volume during this year?\n",
    "7. (Optional) What was the median trading volume during this year. (Note: you may need to implement your own function for calculating the median.)"
   ]
  },
  {
   "cell_type": "code",
   "execution_count": 60,
   "metadata": {},
   "outputs": [],
   "source": [
    "#1.Collect data from the Franfurt Stock Exchange, for the ticker AFX_X, for the whole year 2017 (keep in mind that the date format is YYYY-MM-DD).\n",
    "url_base = \"https://www.quandl.com/api/v3/datasets/fse/AFX_X.json?start_date=2017-01-01&end_date=2017-12-31&collapse=year&transform=rdiff&api_key=\"\n",
    "url = url_base + API_KEY\n",
    "text = requests.get(url)"
   ]
  },
  {
   "cell_type": "code",
   "execution_count": 8,
   "metadata": {},
   "outputs": [
    {
     "name": "stdout",
     "output_type": "stream",
     "text": [
      "<type 'dict'>\n"
     ]
    }
   ],
   "source": [
    "#2.Convert the returned JSON object into a Python dictionary.\n",
    "data = text.json()\n",
    "print(type(data))"
   ]
  },
  {
   "cell_type": "code",
   "execution_count": 9,
   "metadata": {},
   "outputs": [
    {
     "name": "stdout",
     "output_type": "stream",
     "text": [
      "lowest: -0.0849282296651, highest: 0.0410138248848\n"
     ]
    }
   ],
   "source": [
    "#3.Calculate what the highest and lowest opening prices were for the stock in this period.\n",
    "daily_set = data['dataset']['data']\n",
    "lowest = 999999\n",
    "highest = -999999\n",
    "for daily in daily_set:\n",
    "    open_price = daily[1]\n",
    "    if open_price is None:\n",
    "        continue\n",
    "    if lowest > open_price:\n",
    "        lowest = open_price\n",
    "    if highest < open_price:\n",
    "        highest = open_price\n",
    "print(\"lowest: \" + str(lowest) + \", highest: \" + str(highest))"
   ]
  },
  {
   "cell_type": "code",
   "execution_count": 10,
   "metadata": {},
   "outputs": [
    {
     "name": "stdout",
     "output_type": "stream",
     "text": [
      "largest_change: 0.0394927919202\n"
     ]
    }
   ],
   "source": [
    "#4.What was the largest change in any one day (based on High and Low price)?\n",
    "daily_change = []\n",
    "for daily in daily_set:\n",
    "    daily_change.append(float((daily[2])-(daily[3])))\n",
    "print(\"largest_change: \" + str(max(daily_change)))"
   ]
  },
  {
   "cell_type": "code",
   "execution_count": 11,
   "metadata": {},
   "outputs": [
    {
     "name": "stdout",
     "output_type": "stream",
     "text": [
      "largerst_change_between_2days: 0.0837040725696\n"
     ]
    }
   ],
   "source": [
    "#5.What was the largest change between any two days (based on Closing Price)?\n",
    "max_value = -99999\n",
    "min_value = 999999\n",
    "for value in daily_set:\n",
    "    close_price = value[4]\n",
    "    if close_price is None:\n",
    "        continue\n",
    "    if min_value > close_price:\n",
    "        min_value = close_price\n",
    "    if max_value < close_price:\n",
    "        max_value = open_price\n",
    "print(\"largerst_change_between_2days: \" + str(max_value - min_value))"
   ]
  },
  {
   "cell_type": "code",
   "execution_count": 47,
   "metadata": {},
   "outputs": [
    {
     "name": "stdout",
     "output_type": "stream",
     "text": [
      "avergae_trading_volume: 7.33419175718\n"
     ]
    }
   ],
   "source": [
    "#6.What was the average daily trading volume during this year?\n",
    "total_trading_volume = []\n",
    "for value in daily_set:\n",
    "    total_trading_volume.append(value[6])\n",
    "print(\"avergae_trading_volume: \" + str(sum(total_trading_volume)/len(total_trading_volume)))\n"
   ]
  },
  {
   "cell_type": "code",
   "execution_count": 57,
   "metadata": {
    "scrolled": false
   },
   "outputs": [
    {
     "name": "stdout",
     "output_type": "stream",
     "text": [
      "median: -0.00097131142894\n"
     ]
    }
   ],
   "source": [
    "#7.What was the median trading volume during this year. \n",
    "def median(lst):\n",
    "    n = len(lst)\n",
    "    if n < 1:\n",
    "            return None\n",
    "    if n % 2 == 1:\n",
    "            return sorted(lst)[n//2]\n",
    "    else:\n",
    "            return sum(sorted(lst)[n//2-1:n//2+1])/2\n",
    "median = median(total_trading_volume)\n",
    "print(\"median: \" + str(median))"
   ]
  }
 ],
 "metadata": {
  "kernelspec": {
   "display_name": "Python 2",
   "language": "python",
   "name": "python2"
  },
  "language_info": {
   "codemirror_mode": {
    "name": "ipython",
    "version": 2
   },
   "file_extension": ".py",
   "mimetype": "text/x-python",
   "name": "python",
   "nbconvert_exporter": "python",
   "pygments_lexer": "ipython2",
   "version": "2.7.15"
  }
 },
 "nbformat": 4,
 "nbformat_minor": 2
}
